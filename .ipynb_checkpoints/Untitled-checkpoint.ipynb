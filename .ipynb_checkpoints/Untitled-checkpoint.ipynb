{
 "cells": [
  {
   "cell_type": "code",
   "execution_count": 436,
   "id": "81350163-722a-4695-8b31-641848317741",
   "metadata": {
    "scrolled": true
   },
   "outputs": [],
   "source": [
    "import pandas as pd\n",
    "import numpy as np\n",
    "\n",
    "import matplotlib.pyplot as plt\n",
    "import seaborn as sns\n",
    "from statsmodels.graphics.gofplots import qqplot\n",
    "\n",
    "import scipy.stats as stats\n",
    "from scipy.stats import (\n",
    "    spearmanr,\n",
    "    f_oneway,\n",
    "    anderson,\n",
    "    normaltest,\n",
    "    shapiro,\n",
    "    kstest,\n",
    "    pearsonr,\n",
    "    skew,\n",
    "    kurtosis\n",
    ")\n",
    "from statsmodels.stats.weightstats import ztest\n",
    "\n",
    "from sklearn.model_selection import train_test_split\n",
    "from sklearn.linear_model import LinearRegression\n",
    "from sklearn.preprocessing import StandardScaler\n",
    "from sklearn.compose import ColumnTransformer\n",
    "from sklearn.pipeline import Pipeline\n",
    "from sklearn.metrics import (\n",
    "    mean_squared_error,\n",
    "    mean_absolute_error,\n",
    "    r2_score,\n",
    "    explained_variance_score,\n",
    "    median_absolute_error\n",
    ")\n",
    "from sklearn.impute import KNNImputer"
   ]
  },
  {
   "cell_type": "code",
   "execution_count": 437,
   "id": "670b97bc-d35f-4db0-8f25-cf3430e7f6c0",
   "metadata": {},
   "outputs": [],
   "source": [
    "df = pd.read_csv(\"dataset.csv\")"
   ]
  },
  {
   "cell_type": "code",
   "execution_count": 438,
   "id": "10807263-a22e-4b38-8540-8749606b13c4",
   "metadata": {},
   "outputs": [
    {
     "name": "stdout",
     "output_type": "stream",
     "text": [
      "   User_ID  Heart_Rate_(BPM)  Blood_Oxygen_Level_(%)    Step_Count  \\\n",
      "0   4174.0         58.939776               98.809650   5450.390578   \n",
      "1      NaN               NaN               98.532195    727.601610   \n",
      "2   1860.0        247.803052               97.052954   2826.521994   \n",
      "3   2294.0         40.000000               96.894213  13797.338044   \n",
      "4   2130.0         61.950165               98.583797  15679.067648   \n",
      "\n",
      "  Sleep_Duration_(hours) Activity_Level Stress_Level  \n",
      "0      7.167235622316564  Highly Active            1  \n",
      "1      6.538239375570314  Highly_Active            5  \n",
      "2                  ERROR  Highly Active            5  \n",
      "3      7.367789630207228          Actve            3  \n",
      "4                    NaN  Highly_Active            6  \n"
     ]
    }
   ],
   "source": [
    "print(df.head())\n",
    "\n"
   ]
  },
  {
   "cell_type": "code",
   "execution_count": 439,
   "id": "89f264a2-3021-4695-80e3-29bcdc0c50ab",
   "metadata": {},
   "outputs": [
    {
     "name": "stdout",
     "output_type": "stream",
     "text": [
      "User_ID                   201\n",
      "Heart_Rate_(BPM)          400\n",
      "Blood_Oxygen_Level_(%)    300\n",
      "Step_Count                100\n",
      "Sleep_Duration_(hours)    150\n",
      "Activity_Level            200\n",
      "Stress_Level              200\n",
      "dtype: int64\n"
     ]
    }
   ],
   "source": [
    "print(df.isnull().sum())"
   ]
  },
  {
   "cell_type": "code",
   "execution_count": 440,
   "id": "f673a711-5578-4abe-88e3-6b0149ade912",
   "metadata": {
    "scrolled": true
   },
   "outputs": [
    {
     "data": {
      "text/html": [
       "<div>\n",
       "<style scoped>\n",
       "    .dataframe tbody tr th:only-of-type {\n",
       "        vertical-align: middle;\n",
       "    }\n",
       "\n",
       "    .dataframe tbody tr th {\n",
       "        vertical-align: top;\n",
       "    }\n",
       "\n",
       "    .dataframe thead th {\n",
       "        text-align: right;\n",
       "    }\n",
       "</style>\n",
       "<table border=\"1\" class=\"dataframe\">\n",
       "  <thead>\n",
       "    <tr style=\"text-align: right;\">\n",
       "      <th></th>\n",
       "      <th>User_ID</th>\n",
       "      <th>Heart_Rate_(BPM)</th>\n",
       "      <th>Blood_Oxygen_Level_(%)</th>\n",
       "      <th>Step_Count</th>\n",
       "    </tr>\n",
       "  </thead>\n",
       "  <tbody>\n",
       "    <tr>\n",
       "      <th>count</th>\n",
       "      <td>9799.000000</td>\n",
       "      <td>9600.000000</td>\n",
       "      <td>9700.000000</td>\n",
       "      <td>9900.000000</td>\n",
       "    </tr>\n",
       "    <tr>\n",
       "      <th>mean</th>\n",
       "      <td>3007.480253</td>\n",
       "      <td>76.035462</td>\n",
       "      <td>97.841581</td>\n",
       "      <td>6985.685885</td>\n",
       "    </tr>\n",
       "    <tr>\n",
       "      <th>std</th>\n",
       "      <td>1150.581542</td>\n",
       "      <td>19.412483</td>\n",
       "      <td>1.732863</td>\n",
       "      <td>6885.809680</td>\n",
       "    </tr>\n",
       "    <tr>\n",
       "      <th>min</th>\n",
       "      <td>1001.000000</td>\n",
       "      <td>40.000000</td>\n",
       "      <td>90.791208</td>\n",
       "      <td>0.910138</td>\n",
       "    </tr>\n",
       "    <tr>\n",
       "      <th>25%</th>\n",
       "      <td>1997.500000</td>\n",
       "      <td>64.890152</td>\n",
       "      <td>96.662683</td>\n",
       "      <td>2021.039657</td>\n",
       "    </tr>\n",
       "    <tr>\n",
       "      <th>50%</th>\n",
       "      <td>2998.000000</td>\n",
       "      <td>75.220601</td>\n",
       "      <td>98.010642</td>\n",
       "      <td>4962.534599</td>\n",
       "    </tr>\n",
       "    <tr>\n",
       "      <th>75%</th>\n",
       "      <td>4004.000000</td>\n",
       "      <td>85.198249</td>\n",
       "      <td>99.376179</td>\n",
       "      <td>9724.902880</td>\n",
       "    </tr>\n",
       "    <tr>\n",
       "      <th>max</th>\n",
       "      <td>4999.000000</td>\n",
       "      <td>296.593970</td>\n",
       "      <td>100.000000</td>\n",
       "      <td>62486.690753</td>\n",
       "    </tr>\n",
       "  </tbody>\n",
       "</table>\n",
       "</div>"
      ],
      "text/plain": [
       "           User_ID  Heart_Rate_(BPM)  Blood_Oxygen_Level_(%)    Step_Count\n",
       "count  9799.000000       9600.000000             9700.000000   9900.000000\n",
       "mean   3007.480253         76.035462               97.841581   6985.685885\n",
       "std    1150.581542         19.412483                1.732863   6885.809680\n",
       "min    1001.000000         40.000000               90.791208      0.910138\n",
       "25%    1997.500000         64.890152               96.662683   2021.039657\n",
       "50%    2998.000000         75.220601               98.010642   4962.534599\n",
       "75%    4004.000000         85.198249               99.376179   9724.902880\n",
       "max    4999.000000        296.593970              100.000000  62486.690753"
      ]
     },
     "execution_count": 440,
     "metadata": {},
     "output_type": "execute_result"
    }
   ],
   "source": [
    "df.describe()"
   ]
  },
  {
   "cell_type": "code",
   "execution_count": 441,
   "id": "212a3426-db62-4743-8c94-f0c584749cd9",
   "metadata": {},
   "outputs": [
    {
     "data": {
      "text/plain": [
       "Index(['User_ID', 'Heart_Rate_(BPM)', 'Blood_Oxygen_Level_(%)', 'Step_Count',\n",
       "       'Sleep_Duration_(hours)', 'Activity_Level', 'Stress_Level'],\n",
       "      dtype='object')"
      ]
     },
     "execution_count": 441,
     "metadata": {},
     "output_type": "execute_result"
    }
   ],
   "source": [
    "df.columns\n"
   ]
  },
  {
   "cell_type": "code",
   "execution_count": 442,
   "id": "32bf889f-7258-4d00-a49d-4c8096715626",
   "metadata": {
    "scrolled": true
   },
   "outputs": [
    {
     "name": "stdout",
     "output_type": "stream",
     "text": [
      "User_ID\n",
      "NaN       201\n",
      "3708.0     10\n",
      "3773.0     10\n",
      "1018.0      9\n",
      "1661.0      9\n",
      "         ... \n",
      "4142.0      1\n",
      "3858.0      1\n",
      "2584.0      1\n",
      "2163.0      1\n",
      "4887.0      1\n",
      "Name: count, Length: 3635, dtype: int64\n"
     ]
    }
   ],
   "source": [
    "print(df['User_ID'].value_counts(dropna=False))\n"
   ]
  },
  {
   "cell_type": "code",
   "execution_count": 443,
   "id": "b691db4a-1e9f-415a-aa3c-9ec8b2b4bdfd",
   "metadata": {},
   "outputs": [],
   "source": [
    "#User_ID sütununun index işlevini yerine getirmediği unique olması gerekirken tekrar eden veriler içerdiğini \n",
    "#görebiliriz ve çok fazla boş değer var.Bu sütun üzerinden istatistik de almayacağız.Bu sütunu siliyoruz.\n",
    "\n",
    "df.drop('User_ID', axis=1, inplace=True)"
   ]
  },
  {
   "cell_type": "code",
   "execution_count": 444,
   "id": "4a7e8c06-3979-4b6c-974f-d477fa695cb5",
   "metadata": {},
   "outputs": [],
   "source": [
    "numeric_columns = [      \n",
    "        'Heart_Rate_(BPM)', \n",
    "        'Blood_Oxygen_Level_(%)', \n",
    "        'Step_Count', \n",
    "        'Sleep_Duration_(hours)', \n",
    "        'Stress_Level'\n",
    "    ]\n"
   ]
  },
  {
   "cell_type": "code",
   "execution_count": 445,
   "id": "da0545b3-b99d-4da0-bb6c-2d5bfeffa0ef",
   "metadata": {},
   "outputs": [
    {
     "name": "stdout",
     "output_type": "stream",
     "text": [
      "Activity_Level Değerleri ve Frekansları:\n",
      "Activity_Level\n",
      "Seddentary       1676\n",
      "Sedentary        1657\n",
      "Highly Active    1650\n",
      "Active           1643\n",
      "Actve            1622\n",
      "Highly_Active    1552\n",
      "Name: count, dtype: int64\n",
      "\n",
      "Stress_Level Değerleri ve Frekansları:\n",
      "Stress_Level\n",
      "2            1007\n",
      "7            1006\n",
      "6            1001\n",
      "3             995\n",
      "1             984\n",
      "9             976\n",
      "4             966\n",
      "10            954\n",
      "5             945\n",
      "8             917\n",
      "Very High      49\n",
      "Name: count, dtype: int64\n",
      "\n",
      "Blood_Oxygen_Level_(%) Değerleri ve Frekansları:\n",
      "Blood_Oxygen_Level_(%)\n",
      "100.000000    1526\n",
      "99.569618        1\n",
      "99.254951        1\n",
      "98.475606        1\n",
      "98.809650        1\n",
      "              ... \n",
      "98.931927        1\n",
      "95.773035        1\n",
      "97.945874        1\n",
      "98.401058        1\n",
      "99.627057        1\n",
      "Name: count, Length: 8175, dtype: int64\n",
      "\n",
      "Step_Count Değerleri ve Frekansları:\n",
      "Step_Count\n",
      "544.696104      1\n",
      "5450.390578     1\n",
      "727.601610      1\n",
      "2826.521994     1\n",
      "13797.338044    1\n",
      "               ..\n",
      "1449.215895     1\n",
      "5643.511358     1\n",
      "3488.919508     1\n",
      "5846.923275     1\n",
      "1976.186392     1\n",
      "Name: count, Length: 9900, dtype: int64\n",
      "\n"
     ]
    }
   ],
   "source": [
    "\n",
    "print(\"Activity_Level Değerleri ve Frekansları:\")\n",
    "print(df['Activity_Level'].value_counts())\n",
    "print()\n",
    "\n",
    "\n",
    "print(\"Stress_Level Değerleri ve Frekansları:\")\n",
    "print(df['Stress_Level'].value_counts())\n",
    "print()\n",
    "\n",
    "\n",
    "print(\"Blood_Oxygen_Level_(%) Değerleri ve Frekansları:\")\n",
    "print(df['Blood_Oxygen_Level_(%)'].value_counts())\n",
    "print()\n",
    "\n",
    "print(\"Step_Count Değerleri ve Frekansları:\")\n",
    "print(df['Step_Count'].value_counts())\n",
    "print()\n"
   ]
  },
  {
   "cell_type": "code",
   "execution_count": 446,
   "id": "32302f9c-d550-4454-8491-e6d4b48979f3",
   "metadata": {},
   "outputs": [
    {
     "name": "stdout",
     "output_type": "stream",
     "text": [
      "Temizlenmiş veri istatistikleri:\n",
      "       Heart_Rate_(BPM)  Blood_Oxygen_Level_(%)    Step_Count  \\\n",
      "count       9550.000000             9700.000000   9900.000000   \n",
      "mean          75.132684               97.841581   6985.685885   \n",
      "std           14.770733                1.732863   6885.809680   \n",
      "min           40.000000               90.791208      0.910138   \n",
      "25%           64.823343               96.662683   2021.039657   \n",
      "50%           75.146263               98.010642   4962.534599   \n",
      "75%           85.043048               99.376179   9724.902880   \n",
      "max          130.312002              100.000000  62486.690753   \n",
      "\n",
      "       Sleep_Duration_(hours)  Stress_Level  \n",
      "count             9602.000000   9751.000000  \n",
      "mean                 6.506161      5.464055  \n",
      "std                  1.508558      2.871561  \n",
      "min                  0.589987      1.000000  \n",
      "25%                  5.494408      3.000000  \n",
      "50%                  6.503462      5.000000  \n",
      "75%                  7.529543      8.000000  \n",
      "max                 12.140233     10.000000  \n",
      "\n",
      "Eksik veri sayısı:\n",
      "Heart_Rate_(BPM)          450\n",
      "Blood_Oxygen_Level_(%)    300\n",
      "Step_Count                100\n",
      "Sleep_Duration_(hours)    398\n",
      "Stress_Level              249\n",
      "dtype: int64\n"
     ]
    },
    {
     "data": {
      "text/html": [
       "<div>\n",
       "<style scoped>\n",
       "    .dataframe tbody tr th:only-of-type {\n",
       "        vertical-align: middle;\n",
       "    }\n",
       "\n",
       "    .dataframe tbody tr th {\n",
       "        vertical-align: top;\n",
       "    }\n",
       "\n",
       "    .dataframe thead th {\n",
       "        text-align: right;\n",
       "    }\n",
       "</style>\n",
       "<table border=\"1\" class=\"dataframe\">\n",
       "  <thead>\n",
       "    <tr style=\"text-align: right;\">\n",
       "      <th></th>\n",
       "      <th>Heart_Rate_(BPM)</th>\n",
       "      <th>Blood_Oxygen_Level_(%)</th>\n",
       "      <th>Step_Count</th>\n",
       "      <th>Sleep_Duration_(hours)</th>\n",
       "      <th>Activity_Level</th>\n",
       "      <th>Stress_Level</th>\n",
       "    </tr>\n",
       "  </thead>\n",
       "  <tbody>\n",
       "    <tr>\n",
       "      <th>0</th>\n",
       "      <td>58.939776</td>\n",
       "      <td>98.809650</td>\n",
       "      <td>5450.390578</td>\n",
       "      <td>7.167236</td>\n",
       "      <td>Highly Active</td>\n",
       "      <td>1.0</td>\n",
       "    </tr>\n",
       "    <tr>\n",
       "      <th>1</th>\n",
       "      <td>NaN</td>\n",
       "      <td>98.532195</td>\n",
       "      <td>727.601610</td>\n",
       "      <td>6.538239</td>\n",
       "      <td>Highly_Active</td>\n",
       "      <td>5.0</td>\n",
       "    </tr>\n",
       "    <tr>\n",
       "      <th>2</th>\n",
       "      <td>NaN</td>\n",
       "      <td>97.052954</td>\n",
       "      <td>2826.521994</td>\n",
       "      <td>NaN</td>\n",
       "      <td>Highly Active</td>\n",
       "      <td>5.0</td>\n",
       "    </tr>\n",
       "    <tr>\n",
       "      <th>3</th>\n",
       "      <td>40.000000</td>\n",
       "      <td>96.894213</td>\n",
       "      <td>13797.338044</td>\n",
       "      <td>7.367790</td>\n",
       "      <td>Actve</td>\n",
       "      <td>3.0</td>\n",
       "    </tr>\n",
       "    <tr>\n",
       "      <th>4</th>\n",
       "      <td>61.950165</td>\n",
       "      <td>98.583797</td>\n",
       "      <td>15679.067648</td>\n",
       "      <td>NaN</td>\n",
       "      <td>Highly_Active</td>\n",
       "      <td>6.0</td>\n",
       "    </tr>\n",
       "  </tbody>\n",
       "</table>\n",
       "</div>"
      ],
      "text/plain": [
       "   Heart_Rate_(BPM)  Blood_Oxygen_Level_(%)    Step_Count  \\\n",
       "0         58.939776               98.809650   5450.390578   \n",
       "1               NaN               98.532195    727.601610   \n",
       "2               NaN               97.052954   2826.521994   \n",
       "3         40.000000               96.894213  13797.338044   \n",
       "4         61.950165               98.583797  15679.067648   \n",
       "\n",
       "   Sleep_Duration_(hours) Activity_Level  Stress_Level  \n",
       "0                7.167236  Highly Active           1.0  \n",
       "1                6.538239  Highly_Active           5.0  \n",
       "2                     NaN  Highly Active           5.0  \n",
       "3                7.367790          Actve           3.0  \n",
       "4                     NaN  Highly_Active           6.0  "
      ]
     },
     "execution_count": 446,
     "metadata": {},
     "output_type": "execute_result"
    }
   ],
   "source": [
    "for col in numeric_columns:\n",
    "    df[col] = pd.to_numeric(df[col], errors='coerce')\n",
    "\n",
    "\n",
    "def clean_numeric_values(series, min_val, max_val):\n",
    "   \n",
    "    return series.where((series >= min_val) & (series <= max_val))\n",
    "\n",
    "\n",
    "df['Heart_Rate_(BPM)'] = clean_numeric_values(df['Heart_Rate_(BPM)'], 20, 160)  \n",
    "df['Blood_Oxygen_Level_(%)'] = clean_numeric_values(df['Blood_Oxygen_Level_(%)'], 70, 100)  \n",
    "df['Step_Count'] = clean_numeric_values(df['Step_Count'], 0, 100000)  \n",
    "df['Sleep_Duration_(hours)'] = clean_numeric_values(df['Sleep_Duration_(hours)'], 0, 24)  \n",
    "df['Stress_Level'] = clean_numeric_values(df['Stress_Level'], 0, 10)  \n",
    "\n",
    "\n",
    "\n",
    "print(\"Temizlenmiş veri istatistikleri:\")\n",
    "print(df[numeric_columns].describe())\n",
    "\n",
    "\n",
    "print(\"\\nEksik veri sayısı:\")\n",
    "print(df[numeric_columns].isnull().sum())\n",
    "\n",
    "df.head()"
   ]
  },
  {
   "cell_type": "code",
   "execution_count": 447,
   "id": "1756add7-5d3d-42ed-bd41-408ede630683",
   "metadata": {},
   "outputs": [
    {
     "data": {
      "text/plain": [
       "Heart_Rate_(BPM)\n",
       "40.000000     84\n",
       "101.914938     1\n",
       "73.852941      1\n",
       "95.372290      1\n",
       "79.062632      1\n",
       "              ..\n",
       "84.443499      1\n",
       "62.752562      1\n",
       "65.810546      1\n",
       "43.368648      1\n",
       "93.340338      1\n",
       "Name: count, Length: 9467, dtype: int64"
      ]
     },
     "execution_count": 447,
     "metadata": {},
     "output_type": "execute_result"
    }
   ],
   "source": [
    "df['Heart_Rate_(BPM)'].value_counts()\n"
   ]
  },
  {
   "cell_type": "code",
   "execution_count": 448,
   "id": "f0969072-45c2-43ef-bf8c-85d691e3057e",
   "metadata": {},
   "outputs": [],
   "source": [
    "# 40 değeri anormal şekilde fazla girilmiş ve diğer girdiler gibi küsüratlı değil bu verinin kirli olduğuba kanaat getirdik\n",
    "\n",
    "df['Heart_Rate_(BPM)'] = df['Heart_Rate_(BPM)'].replace(40.0, np.nan)"
   ]
  },
  {
   "cell_type": "code",
   "execution_count": 449,
   "id": "ee9d41fe-1bae-4ffd-b69a-9e4fab60992f",
   "metadata": {},
   "outputs": [
    {
     "data": {
      "text/plain": [
       "Heart_Rate_(BPM)          534\n",
       "Blood_Oxygen_Level_(%)    300\n",
       "Step_Count                100\n",
       "Sleep_Duration_(hours)    398\n",
       "Activity_Level            200\n",
       "Stress_Level              249\n",
       "dtype: int64"
      ]
     },
     "execution_count": 449,
     "metadata": {},
     "output_type": "execute_result"
    }
   ],
   "source": [
    "df.isnull().sum()"
   ]
  },
  {
   "cell_type": "code",
   "execution_count": 450,
   "id": "9bedc09d-c35b-47f8-9ce0-365a3fee66ae",
   "metadata": {},
   "outputs": [],
   "source": [
    "nan_mask = df[numeric_columns].isnull()\n",
    "\n",
    "scaler = MinMaxScaler()\n",
    "scaled_data = scaler.fit_transform(df[numeric_columns])\n",
    "\n",
    "imputer = KNNImputer(n_neighbors=3)\n",
    "imputed_scaled = imputer.fit_transform(scaled_data)\n",
    "\n",
    "imputed_data = scaler.inverse_transform(imputed_scaled)\n",
    "\n",
    "for i, col in enumerate(numeric_columns):\n",
    "    updated_col = pd.Series(imputed_data[:, i], index=df.index)\n",
    "        \n",
    "    if pd.api.types.is_integer_dtype(df[col]):\n",
    "        updated_col = updated_col.round().astype(\"int64\")  \n",
    "    df.loc[nan_mask[col], col] = updated_col[nan_mask[col]]\n"
   ]
  },
  {
   "cell_type": "code",
   "execution_count": 451,
   "id": "900f2ef8-d39a-4429-a954-3107d368c615",
   "metadata": {},
   "outputs": [
    {
     "data": {
      "text/plain": [
       "Heart_Rate_(BPM)            0\n",
       "Blood_Oxygen_Level_(%)      0\n",
       "Step_Count                  0\n",
       "Sleep_Duration_(hours)      0\n",
       "Activity_Level            200\n",
       "Stress_Level                0\n",
       "dtype: int64"
      ]
     },
     "execution_count": 451,
     "metadata": {},
     "output_type": "execute_result"
    }
   ],
   "source": [
    "df.isnull().sum()"
   ]
  },
  {
   "cell_type": "code",
   "execution_count": 452,
   "id": "f01fb8f0-4bf3-4ca8-9ddc-11ed0aeeebca",
   "metadata": {},
   "outputs": [],
   "source": [
    "#Yarım adım atmak 0.3 adım atmak gibi bir durum söz konusu olmadığından adım verisini en yakın tam sayıya yuvarlıyoruz\n",
    "\n",
    "df['Step_Count'] = df['Step_Count'].round().astype('Int64')  "
   ]
  },
  {
   "cell_type": "code",
   "execution_count": 453,
   "id": "3efdbd2d-1fd9-4584-b6b5-80572e45aca8",
   "metadata": {},
   "outputs": [
    {
     "data": {
      "text/plain": [
       "array([ 1.        ,  5.        ,  3.        ,  6.        , 10.        ,\n",
       "        2.        ,  8.        ,  9.        ,  4.66666667,  4.        ,\n",
       "        7.        ,  5.        ,  7.33333333,  4.33333333,  7.        ,\n",
       "        4.66666667,  3.        ,  5.66666667,  3.66666667,  2.66666667,\n",
       "        4.33333333,  5.33333333,  7.33333333,  6.66666667,  6.33333333,\n",
       "        6.33333333,  6.        ,  3.66666667,  3.33333333,  5.        ,\n",
       "        8.33333333,  7.66666667,  4.        ,  6.        ,  3.66666667,\n",
       "        3.33333333,  8.66666667,  8.33333333,  2.33333333,  2.33333333,\n",
       "        4.66666667])"
      ]
     },
     "execution_count": 453,
     "metadata": {},
     "output_type": "execute_result"
    }
   ],
   "source": [
    "df['Stress_Level'].unique()"
   ]
  },
  {
   "cell_type": "code",
   "execution_count": 454,
   "id": "6b6ad1b7-3287-4486-bea7-535ab49397e5",
   "metadata": {
    "scrolled": true
   },
   "outputs": [
    {
     "name": "stdout",
     "output_type": "stream",
     "text": [
      "Heart_Rate_(BPM)            0\n",
      "Blood_Oxygen_Level_(%)      0\n",
      "Step_Count                  0\n",
      "Sleep_Duration_(hours)      0\n",
      "Activity_Level            200\n",
      "Stress_Level                0\n",
      "dtype: int64\n"
     ]
    },
    {
     "data": {
      "text/html": [
       "<div>\n",
       "<style scoped>\n",
       "    .dataframe tbody tr th:only-of-type {\n",
       "        vertical-align: middle;\n",
       "    }\n",
       "\n",
       "    .dataframe tbody tr th {\n",
       "        vertical-align: top;\n",
       "    }\n",
       "\n",
       "    .dataframe thead th {\n",
       "        text-align: right;\n",
       "    }\n",
       "</style>\n",
       "<table border=\"1\" class=\"dataframe\">\n",
       "  <thead>\n",
       "    <tr style=\"text-align: right;\">\n",
       "      <th></th>\n",
       "      <th>Heart_Rate_(BPM)</th>\n",
       "      <th>Blood_Oxygen_Level_(%)</th>\n",
       "      <th>Step_Count</th>\n",
       "      <th>Sleep_Duration_(hours)</th>\n",
       "      <th>Activity_Level</th>\n",
       "      <th>Stress_Level</th>\n",
       "    </tr>\n",
       "  </thead>\n",
       "  <tbody>\n",
       "    <tr>\n",
       "      <th>0</th>\n",
       "      <td>58.939776</td>\n",
       "      <td>98.809650</td>\n",
       "      <td>5450</td>\n",
       "      <td>7.167236</td>\n",
       "      <td>Highly Active</td>\n",
       "      <td>1.0</td>\n",
       "    </tr>\n",
       "    <tr>\n",
       "      <th>1</th>\n",
       "      <td>77.253337</td>\n",
       "      <td>98.532195</td>\n",
       "      <td>728</td>\n",
       "      <td>6.538239</td>\n",
       "      <td>Highly_Active</td>\n",
       "      <td>5.0</td>\n",
       "    </tr>\n",
       "    <tr>\n",
       "      <th>2</th>\n",
       "      <td>81.067588</td>\n",
       "      <td>97.052954</td>\n",
       "      <td>2827</td>\n",
       "      <td>5.026655</td>\n",
       "      <td>Highly Active</td>\n",
       "      <td>5.0</td>\n",
       "    </tr>\n",
       "    <tr>\n",
       "      <th>3</th>\n",
       "      <td>66.962953</td>\n",
       "      <td>96.894213</td>\n",
       "      <td>13797</td>\n",
       "      <td>7.367790</td>\n",
       "      <td>Actve</td>\n",
       "      <td>3.0</td>\n",
       "    </tr>\n",
       "    <tr>\n",
       "      <th>4</th>\n",
       "      <td>61.950165</td>\n",
       "      <td>98.583797</td>\n",
       "      <td>15679</td>\n",
       "      <td>7.866920</td>\n",
       "      <td>Highly_Active</td>\n",
       "      <td>6.0</td>\n",
       "    </tr>\n",
       "  </tbody>\n",
       "</table>\n",
       "</div>"
      ],
      "text/plain": [
       "   Heart_Rate_(BPM)  Blood_Oxygen_Level_(%)  Step_Count  \\\n",
       "0         58.939776               98.809650        5450   \n",
       "1         77.253337               98.532195         728   \n",
       "2         81.067588               97.052954        2827   \n",
       "3         66.962953               96.894213       13797   \n",
       "4         61.950165               98.583797       15679   \n",
       "\n",
       "   Sleep_Duration_(hours) Activity_Level  Stress_Level  \n",
       "0                7.167236  Highly Active           1.0  \n",
       "1                6.538239  Highly_Active           5.0  \n",
       "2                5.026655  Highly Active           5.0  \n",
       "3                7.367790          Actve           3.0  \n",
       "4                7.866920  Highly_Active           6.0  "
      ]
     },
     "execution_count": 454,
     "metadata": {},
     "output_type": "execute_result"
    }
   ],
   "source": [
    "print(df.isnull().sum())\n",
    "df.head()"
   ]
  },
  {
   "cell_type": "code",
   "execution_count": 455,
   "id": "4f75877a-49d7-4e3d-b343-ceacb9382ae7",
   "metadata": {},
   "outputs": [
    {
     "data": {
      "text/plain": [
       "array(['Highly Active', 'Highly_Active', 'Actve', 'Seddentary',\n",
       "       'Sedentary', 'Active', nan], dtype=object)"
      ]
     },
     "execution_count": 455,
     "metadata": {},
     "output_type": "execute_result"
    }
   ],
   "source": [
    "df['Activity_Level'].unique()"
   ]
  },
  {
   "cell_type": "code",
   "execution_count": 456,
   "id": "b917d03a-df56-4784-99f2-65ad3b799af2",
   "metadata": {
    "scrolled": true
   },
   "outputs": [],
   "source": [
    "invalid_vals = ['', 'unknown', '??', None, np.nan]\n",
    "mode_val = df['Activity_Level'][~df['Activity_Level'].isin(invalid_vals)].mode().iloc[0]\n",
    "df['Activity_Level'] = df['Activity_Level'].replace(invalid_vals, mode_val)\n",
    "\n",
    "\n"
   ]
  },
  {
   "cell_type": "code",
   "execution_count": 457,
   "id": "cc426518-c534-4d92-9eb5-3836790a594d",
   "metadata": {},
   "outputs": [
    {
     "name": "stdout",
     "output_type": "stream",
     "text": [
      "0\n"
     ]
    }
   ],
   "source": [
    "print(df['Activity_Level'].isnull().sum())"
   ]
  },
  {
   "cell_type": "code",
   "execution_count": 458,
   "id": "b2593785-596c-4ef9-95bd-7a229a2ad6f1",
   "metadata": {},
   "outputs": [],
   "source": [
    "# kategorik verilerin olduğu bu satırlar için manuel düzeltme yapacağız\n",
    "\n",
    "df['Activity_Level'] = df['Activity_Level'].replace({\n",
    "    'Highly_Active': 'Highly Active',\n",
    "    'Seddentary': 'Sedentary',\n",
    "    'Actve':'Active'\n",
    "})\n"
   ]
  },
  {
   "cell_type": "code",
   "execution_count": 459,
   "id": "c7f836db-2660-491d-9048-4580411fce99",
   "metadata": {},
   "outputs": [
    {
     "name": "stdout",
     "output_type": "stream",
     "text": [
      "['Highly Active' 'Active' 'Sedentary']\n"
     ]
    }
   ],
   "source": [
    "print(df['Activity_Level'].unique())"
   ]
  },
  {
   "cell_type": "code",
   "execution_count": 460,
   "id": "7783e692-ce05-4f25-a332-18539f876a79",
   "metadata": {},
   "outputs": [
    {
     "name": "stdout",
     "output_type": "stream",
     "text": [
      "[ 1.          5.          3.          6.         10.          2.\n",
      "  8.          9.          4.66666667  4.          7.          5.\n",
      "  7.33333333  4.33333333  7.          4.66666667  3.          5.66666667\n",
      "  3.66666667  2.66666667  4.33333333  5.33333333  7.33333333  6.66666667\n",
      "  6.33333333  6.33333333  6.          3.66666667  3.33333333  5.\n",
      "  8.33333333  7.66666667  4.          6.          3.66666667  3.33333333\n",
      "  8.66666667  8.33333333  2.33333333  2.33333333  4.66666667]\n"
     ]
    }
   ],
   "source": [
    "\n",
    "print(df['Stress_Level'].unique())"
   ]
  },
  {
   "cell_type": "code",
   "execution_count": 461,
   "id": "61f68a32-78f4-4868-a45f-7f15481aa93b",
   "metadata": {},
   "outputs": [
    {
     "name": "stdout",
     "output_type": "stream",
     "text": [
      "[ 1  5  3  6 10  2  8  9  4  7]\n"
     ]
    }
   ],
   "source": [
    "df['Stress_Level'] = df['Stress_Level'].round().astype(int)  \n",
    "#stres seviyesini tam sayıya çevirdik\n",
    "print(df['Stress_Level'].unique())               \n"
   ]
  },
  {
   "cell_type": "code",
   "execution_count": 462,
   "id": "6885ed6f-4b69-415d-ac50-4215c90b79d8",
   "metadata": {},
   "outputs": [
    {
     "data": {
      "image/png": "[encoded data removed]",
      "text/plain": [
       "<Figure size 1600x2000 with 6 Axes>"
      ]
     },
     "metadata": {},
     "output_type": "display_data"
    }
   ],
   "source": [
    "df.dtypes\n",
    "df_num = df.select_dtypes(include = ['float64', 'int64','object'])\n",
    "df_num.hist(figsize=(16, 20), bins=50, xlabelsize=8, ylabelsize=8);\n"
   ]
  },
  {
   "cell_type": "code",
   "execution_count": 463,
   "id": "73a98ef5-db35-4146-8baf-d293d9c84da1",
   "metadata": {
    "scrolled": true
   },
   "outputs": [
    {
     "data": {
      "text/html": [
       "<div>\n",
       "<style scoped>\n",
       "    .dataframe tbody tr th:only-of-type {\n",
       "        vertical-align: middle;\n",
       "    }\n",
       "\n",
       "    .dataframe tbody tr th {\n",
       "        vertical-align: top;\n",
       "    }\n",
       "\n",
       "    .dataframe thead th {\n",
       "        text-align: right;\n",
       "    }\n",
       "</style>\n",
       "<table border=\"1\" class=\"dataframe\">\n",
       "  <thead>\n",
       "    <tr style=\"text-align: right;\">\n",
       "      <th></th>\n",
       "      <th>Heart_Rate_(BPM)</th>\n",
       "      <th>Blood_Oxygen_Level_(%)</th>\n",
       "      <th>Step_Count</th>\n",
       "      <th>Sleep_Duration_(hours)</th>\n",
       "      <th>Stress_Level</th>\n",
       "    </tr>\n",
       "  </thead>\n",
       "  <tbody>\n",
       "    <tr>\n",
       "      <th>count</th>\n",
       "      <td>10000.000000</td>\n",
       "      <td>10000.000000</td>\n",
       "      <td>10000.0</td>\n",
       "      <td>10000.000000</td>\n",
       "      <td>10000.000000</td>\n",
       "    </tr>\n",
       "    <tr>\n",
       "      <th>mean</th>\n",
       "      <td>75.463904</td>\n",
       "      <td>97.842532</td>\n",
       "      <td>6984.2737</td>\n",
       "      <td>6.505712</td>\n",
       "      <td>5.465600</td>\n",
       "    </tr>\n",
       "    <tr>\n",
       "      <th>std</th>\n",
       "      <td>14.199401</td>\n",
       "      <td>1.714523</td>\n",
       "      <td>6864.776921</td>\n",
       "      <td>1.488033</td>\n",
       "      <td>2.846301</td>\n",
       "    </tr>\n",
       "    <tr>\n",
       "      <th>min</th>\n",
       "      <td>40.121512</td>\n",
       "      <td>90.791208</td>\n",
       "      <td>1.0</td>\n",
       "      <td>0.589987</td>\n",
       "      <td>1.000000</td>\n",
       "    </tr>\n",
       "    <tr>\n",
       "      <th>25%</th>\n",
       "      <td>65.427001</td>\n",
       "      <td>96.687231</td>\n",
       "      <td>2030.0</td>\n",
       "      <td>5.515763</td>\n",
       "      <td>3.000000</td>\n",
       "    </tr>\n",
       "    <tr>\n",
       "      <th>50%</th>\n",
       "      <td>75.336641</td>\n",
       "      <td>98.002122</td>\n",
       "      <td>4979.5</td>\n",
       "      <td>6.503050</td>\n",
       "      <td>5.000000</td>\n",
       "    </tr>\n",
       "    <tr>\n",
       "      <th>75%</th>\n",
       "      <td>84.896539</td>\n",
       "      <td>99.336162</td>\n",
       "      <td>9720.25</td>\n",
       "      <td>7.505761</td>\n",
       "      <td>8.000000</td>\n",
       "    </tr>\n",
       "    <tr>\n",
       "      <th>max</th>\n",
       "      <td>130.312002</td>\n",
       "      <td>100.000000</td>\n",
       "      <td>62487.0</td>\n",
       "      <td>12.140233</td>\n",
       "      <td>10.000000</td>\n",
       "    </tr>\n",
       "  </tbody>\n",
       "</table>\n",
       "</div>"
      ],
      "text/plain": [
       "       Heart_Rate_(BPM)  Blood_Oxygen_Level_(%)   Step_Count  \\\n",
       "count      10000.000000            10000.000000      10000.0   \n",
       "mean          75.463904               97.842532    6984.2737   \n",
       "std           14.199401                1.714523  6864.776921   \n",
       "min           40.121512               90.791208          1.0   \n",
       "25%           65.427001               96.687231       2030.0   \n",
       "50%           75.336641               98.002122       4979.5   \n",
       "75%           84.896539               99.336162      9720.25   \n",
       "max          130.312002              100.000000      62487.0   \n",
       "\n",
       "       Sleep_Duration_(hours)  Stress_Level  \n",
       "count            10000.000000  10000.000000  \n",
       "mean                 6.505712      5.465600  \n",
       "std                  1.488033      2.846301  \n",
       "min                  0.589987      1.000000  \n",
       "25%                  5.515763      3.000000  \n",
       "50%                  6.503050      5.000000  \n",
       "75%                  7.505761      8.000000  \n",
       "max                 12.140233     10.000000  "
      ]
     },
     "execution_count": 463,
     "metadata": {},
     "output_type": "execute_result"
    }
   ],
   "source": [
    "df.describe()"
   ]
  },
  {
   "cell_type": "code",
   "execution_count": 464,
   "id": "ca21eb94",
   "metadata": {},
   "outputs": [],
   "source": [
    "df['Step_Count'] = df['Step_Count'].astype(int)"
   ]
  },
  {
   "cell_type": "code",
   "execution_count": 465,
   "id": "a773aa18-7ac0-4f48-89a3-dea04870ca4c",
   "metadata": {},
   "outputs": [
    {
     "name": "stdout",
     "output_type": "stream",
     "text": [
      "Basıklık Değerleri:\n",
      " Heart_Rate_(BPM)         -0.178217\n",
      "Blood_Oxygen_Level_(%)   -0.269007\n",
      "Step_Count                5.989688\n",
      "Sleep_Duration_(hours)   -0.039500\n",
      "Stress_Level             -1.200718\n",
      "dtype: float64\n"
     ]
    }
   ],
   "source": [
    "from scipy.stats import kurtosis\n",
    "\n",
    "basikliklar = df[numeric_columns].apply(lambda x: kurtosis(x))\n",
    "\n",
    "print(\"Basıklık Değerleri:\\n\", basikliklar)\n"
   ]
  },
  {
   "cell_type": "code",
   "execution_count": 466,
   "id": "f661ab45-2614-4b17-8407-e11a0dd6fd17",
   "metadata": {},
   "outputs": [
    {
     "name": "stdout",
     "output_type": "stream",
     "text": [
      "Çarpıklıklar:\n",
      " Heart_Rate_(BPM)          0.126978\n",
      "Blood_Oxygen_Level_(%)   -0.575187\n",
      "Step_Count                1.974268\n",
      "Sleep_Duration_(hours)    0.013409\n",
      "Stress_Level              0.014614\n",
      "dtype: float64\n"
     ]
    }
   ],
   "source": [
    "carpikliklar = df[numeric_columns].apply(skew)\n",
    "\n",
    "print(\"Çarpıklıklar:\\n\", carpikliklar)\n",
    "\n"
   ]
  },
  {
   "cell_type": "code",
   "execution_count": 467,
   "id": "368699eb-5416-403f-bdd4-26b02a75599d",
   "metadata": {
    "scrolled": true
   },
   "outputs": [
    {
     "data": {
      "image/png": "[encoded data removed]",
      "text/plain": [
       "<Figure size 1600x600 with 3 Axes>"
      ]
     },
     "metadata": {},
     "output_type": "display_data"
    }
   ],
   "source": [
    "\n",
    "\n",
    "df['Step_Count_log'] = np.log1p(df['Step_Count'] )  \n",
    "df['Step_Count_sqrt'] = np.sqrt(df['Step_Count'])  \n",
    "\n",
    "\n",
    "plt.figure(figsize=(16, 6))\n",
    "\n",
    "\n",
    "plt.subplot(1, 3, 1)\n",
    "sns.histplot(df['Step_Count'], kde=True, bins=30, color='skyblue')\n",
    "plt.title(f\"Orijinal (Çarpıklık: {skew(df['Step_Count']):.2f})\")\n",
    "\n",
    "\n",
    "plt.subplot(1, 3, 2)\n",
    "sns.histplot(df['Step_Count_log'], kde=True, bins=30, color='orange')\n",
    "plt.title(f\"Log Dönüşümü (Çarpıklık: {skew(df['Step_Count_log']):.2f})\")\n",
    "\n",
    "\n",
    "plt.subplot(1, 3, 3)\n",
    "sns.histplot(df['Step_Count_sqrt'], kde=True, bins=30, color='green')\n",
    "plt.title(f\"Karekök Dönüşümü (Çarpıklık: {skew(df['Step_Count_sqrt']):.2f})\")\n",
    "\n",
    "plt.tight_layout()\n",
    "plt.show()\n"
   ]
  },
  {
   "cell_type": "code",
   "execution_count": 468,
   "id": "a00fe2d4-770b-40ce-b3a5-d3a1ce01645f",
   "metadata": {},
   "outputs": [
    {
     "name": "stdout",
     "output_type": "stream",
     "text": [
      "Çarpıklıklar:\n",
      " Heart_Rate_(BPM)          0.126978\n",
      "Blood_Oxygen_Level_(%)   -0.575187\n",
      "Step_Count                1.974268\n",
      "Sleep_Duration_(hours)    0.013409\n",
      "Stress_Level              0.014614\n",
      "dtype: float64\n"
     ]
    }
   ],
   "source": [
    "carpikliklar = df[numeric_columns].apply(skew)\n",
    "\n",
    "print(\"Çarpıklıklar:\\n\", carpikliklar)"
   ]
  },
  {
   "cell_type": "code",
   "execution_count": 469,
   "id": "48de4d70-5b19-4a7c-af4c-62ffd6b98a23",
   "metadata": {},
   "outputs": [
    {
     "name": "stdout",
     "output_type": "stream",
     "text": [
      "Basıklık Değerleri:\n",
      " Heart_Rate_(BPM)         -0.178217\n",
      "Blood_Oxygen_Level_(%)   -0.269007\n",
      "Step_Count                5.989688\n",
      "Sleep_Duration_(hours)   -0.039500\n",
      "Stress_Level             -1.200718\n",
      "dtype: float64\n"
     ]
    },
    {
     "data": {
      "text/html": [
       "<div>\n",
       "<style scoped>\n",
       "    .dataframe tbody tr th:only-of-type {\n",
       "        vertical-align: middle;\n",
       "    }\n",
       "\n",
       "    .dataframe tbody tr th {\n",
       "        vertical-align: top;\n",
       "    }\n",
       "\n",
       "    .dataframe thead th {\n",
       "        text-align: right;\n",
       "    }\n",
       "</style>\n",
       "<table border=\"1\" class=\"dataframe\">\n",
       "  <thead>\n",
       "    <tr style=\"text-align: right;\">\n",
       "      <th></th>\n",
       "      <th>Heart_Rate_(BPM)</th>\n",
       "      <th>Blood_Oxygen_Level_(%)</th>\n",
       "      <th>Step_Count</th>\n",
       "      <th>Sleep_Duration_(hours)</th>\n",
       "      <th>Activity_Level</th>\n",
       "      <th>Stress_Level</th>\n",
       "      <th>Step_Count_log</th>\n",
       "      <th>Step_Count_sqrt</th>\n",
       "    </tr>\n",
       "  </thead>\n",
       "  <tbody>\n",
       "    <tr>\n",
       "      <th>0</th>\n",
       "      <td>58.939776</td>\n",
       "      <td>98.809650</td>\n",
       "      <td>5450</td>\n",
       "      <td>7.167236</td>\n",
       "      <td>Highly Active</td>\n",
       "      <td>1</td>\n",
       "      <td>8.603554</td>\n",
       "      <td>73.824115</td>\n",
       "    </tr>\n",
       "    <tr>\n",
       "      <th>1</th>\n",
       "      <td>77.253337</td>\n",
       "      <td>98.532195</td>\n",
       "      <td>728</td>\n",
       "      <td>6.538239</td>\n",
       "      <td>Highly Active</td>\n",
       "      <td>5</td>\n",
       "      <td>6.591674</td>\n",
       "      <td>26.981475</td>\n",
       "    </tr>\n",
       "    <tr>\n",
       "      <th>2</th>\n",
       "      <td>81.067588</td>\n",
       "      <td>97.052954</td>\n",
       "      <td>2827</td>\n",
       "      <td>5.026655</td>\n",
       "      <td>Highly Active</td>\n",
       "      <td>5</td>\n",
       "      <td>7.947325</td>\n",
       "      <td>53.169540</td>\n",
       "    </tr>\n",
       "    <tr>\n",
       "      <th>3</th>\n",
       "      <td>66.962953</td>\n",
       "      <td>96.894213</td>\n",
       "      <td>13797</td>\n",
       "      <td>7.367790</td>\n",
       "      <td>Active</td>\n",
       "      <td>3</td>\n",
       "      <td>9.532279</td>\n",
       "      <td>117.460632</td>\n",
       "    </tr>\n",
       "    <tr>\n",
       "      <th>4</th>\n",
       "      <td>61.950165</td>\n",
       "      <td>98.583797</td>\n",
       "      <td>15679</td>\n",
       "      <td>7.866920</td>\n",
       "      <td>Highly Active</td>\n",
       "      <td>6</td>\n",
       "      <td>9.660141</td>\n",
       "      <td>125.215814</td>\n",
       "    </tr>\n",
       "  </tbody>\n",
       "</table>\n",
       "</div>"
      ],
      "text/plain": [
       "   Heart_Rate_(BPM)  Blood_Oxygen_Level_(%)  Step_Count  \\\n",
       "0         58.939776               98.809650        5450   \n",
       "1         77.253337               98.532195         728   \n",
       "2         81.067588               97.052954        2827   \n",
       "3         66.962953               96.894213       13797   \n",
       "4         61.950165               98.583797       15679   \n",
       "\n",
       "   Sleep_Duration_(hours) Activity_Level  Stress_Level  Step_Count_log  \\\n",
       "0                7.167236  Highly Active             1        8.603554   \n",
       "1                6.538239  Highly Active             5        6.591674   \n",
       "2                5.026655  Highly Active             5        7.947325   \n",
       "3                7.367790         Active             3        9.532279   \n",
       "4                7.866920  Highly Active             6        9.660141   \n",
       "\n",
       "   Step_Count_sqrt  \n",
       "0        73.824115  \n",
       "1        26.981475  \n",
       "2        53.169540  \n",
       "3       117.460632  \n",
       "4       125.215814  "
      ]
     },
     "execution_count": 469,
     "metadata": {},
     "output_type": "execute_result"
    }
   ],
   "source": [
    "basikliklar = df[numeric_columns].apply(lambda x: kurtosis(x))\n",
    "\n",
    "print(\"Basıklık Değerleri:\\n\", basikliklar)\n",
    "df.head()"
   ]
  },
  {
   "cell_type": "code",
   "execution_count": 470,
   "id": "b540cd41-132b-4980-b1fe-2ea272903fdf",
   "metadata": {},
   "outputs": [],
   "source": [
    "df = df.sort_values(by='Stress_Level')"
   ]
  },
  {
   "cell_type": "code",
   "execution_count": 471,
   "id": "aa79419b-ebc7-40cb-a918-e22f4dbf8b64",
   "metadata": {},
   "outputs": [],
   "source": [
    "df['Step_Count'] = df['Step_Count'].astype(int)"
   ]
  },
  {
   "cell_type": "code",
   "execution_count": 472,
   "id": "e064a0ab-02e8-409c-b2cd-3b44b14b2614",
   "metadata": {},
   "outputs": [
    {
     "data": {
      "text/plain": [
       "array([ 1,  2,  3,  4,  5,  6,  7,  8,  9, 10])"
      ]
     },
     "execution_count": 472,
     "metadata": {},
     "output_type": "execute_result"
    }
   ],
   "source": [
    "df['Stress_Level'].unique()"
   ]
  },
  {
   "cell_type": "code",
   "execution_count": 473,
   "id": "2ff39420-f1aa-45dc-bd18-9c8d1321a79c",
   "metadata": {
    "scrolled": true
   },
   "outputs": [
    {
     "data": {
      "text/plain": [
       "count    10000.000000\n",
       "mean      6984.273700\n",
       "std       6864.776921\n",
       "min          1.000000\n",
       "25%       2030.000000\n",
       "50%       4979.500000\n",
       "75%       9720.250000\n",
       "max      62487.000000\n",
       "Name: Step_Count, dtype: float64"
      ]
     },
     "execution_count": 473,
     "metadata": {},
     "output_type": "execute_result"
    }
   ],
   "source": [
    "df['Step_Count'].describe()"
   ]
  },
  {
   "cell_type": "code",
   "execution_count": 474,
   "id": "131c20ba-6e33-42b7-89a5-fe6b540038f5",
   "metadata": {},
   "outputs": [
    {
     "data": {
      "text/plain": [
       "Heart_Rate_(BPM)          float64\n",
       "Blood_Oxygen_Level_(%)    float64\n",
       "Step_Count                  int64\n",
       "Sleep_Duration_(hours)    float64\n",
       "Activity_Level             object\n",
       "Stress_Level                int64\n",
       "Step_Count_log            float64\n",
       "Step_Count_sqrt           float64\n",
       "dtype: object"
      ]
     },
     "execution_count": 474,
     "metadata": {},
     "output_type": "execute_result"
    }
   ],
   "source": [
    "df.dtypes"
   ]
  },
  {
   "cell_type": "code",
   "execution_count": 475,
   "id": "9bac4f98-d3c2-4a17-b0ce-7c0eb2d9485b",
   "metadata": {},
   "outputs": [
    {
     "data": {
      "text/plain": [
       "count    10000.000000\n",
       "mean         6.505712\n",
       "std          1.488033\n",
       "min          0.589987\n",
       "25%          5.515763\n",
       "50%          6.503050\n",
       "75%          7.505761\n",
       "max         12.140233\n",
       "Name: Sleep_Duration_(hours), dtype: float64"
      ]
     },
     "execution_count": 475,
     "metadata": {},
     "output_type": "execute_result"
    }
   ],
   "source": [
    "df['Sleep_Duration_(hours)'].describe()"
   ]
  },
  {
   "cell_type": "code",
   "execution_count": 476,
   "id": "87c02b0f",
   "metadata": {},
   "outputs": [],
   "source": [
    "n = len(df)"
   ]
  },
  {
   "cell_type": "code",
   "execution_count": 477,
   "id": "00eb18d9",
   "metadata": {},
   "outputs": [
    {
     "data": {
      "image/png": "[encoded data removed]",
      "text/plain": [
       "<Figure size 1200x600 with 1 Axes>"
      ]
     },
     "metadata": {},
     "output_type": "display_data"
    }
   ],
   "source": [
    "plt.figure(figsize=(12, 6))\n",
    "sns.histplot(df['Heart_Rate_(BPM)'], kde=True, bins=20, color='skyblue')\n",
    "plt.title('Heart Rate Distribution - Histogram')\n",
    "plt.xlabel('Heart Rate (BPM)')\n",
    "plt.ylabel('Frequency')\n",
    "plt.show()"
   ]
  },
  {
   "cell_type": "code",
   "execution_count": 478,
   "id": "0be47e2c",
   "metadata": {},
   "outputs": [
    {
     "name": "stdout",
     "output_type": "stream",
     "text": [
      "Anderson-Darling Testi:\n",
      "Test istatistiği: 1.9346\n",
      "15.0%: 0.5760 — UYMAZ\n",
      "10.0%: 0.6560 — UYMAZ\n",
      "5.0%: 0.7870 — UYMAZ\n",
      "2.5%: 0.9180 — UYMAZ\n",
      "1.0%: 1.0920 — UYMAZ\n"
     ]
    }
   ],
   "source": [
    "result = anderson(df['Heart_Rate_(BPM)'], dist='norm')\n",
    "print(\"Anderson-Darling Testi:\")\n",
    "print(f\"Test istatistiği: {result.statistic:.4f}\")\n",
    "for i in range(len(result.critical_values)):\n",
    "    sig_level = result.significance_level[i]\n",
    "    crit_val = result.critical_values[i]\n",
    "    if result.statistic < crit_val:\n",
    "        print(f\"{sig_level}%: {crit_val:.4f} — UYGUN\")\n",
    "    else:\n",
    "        print(f\"{sig_level}%: {crit_val:.4f} — UYMAZ\")"
   ]
  },
  {
   "cell_type": "code",
   "execution_count": 479,
   "id": "8aadd35b",
   "metadata": {},
   "outputs": [
    {
     "name": "stdout",
     "output_type": "stream",
     "text": [
      "Kolmogorov-Smirnov Testi:\n",
      "İstatistik: 0.0110, p-değeri: 0.1774\n",
      "→ Normal dağılıma uygun (p > 0.05)\n"
     ]
    }
   ],
   "source": [
    "if n > 50:\n",
    "    stat, p = kstest(df['Heart_Rate_(BPM)'], 'norm', args=(df['Heart_Rate_(BPM)'].mean(), df['Heart_Rate_(BPM)'].std()))\n",
    "    print(\"Kolmogorov-Smirnov Testi:\")\n",
    "    print(f\"İstatistik: {stat:.4f}, p-değeri: {p:.4f}\")\n",
    "    if p > 0.05:\n",
    "        print(\"→ Normal dağılıma uygun (p > 0.05)\")\n",
    "    else:\n",
    "        print(\"→ Normal dağılıma uymuyor (p ≤ 0.05)\")"
   ]
  },
  {
   "cell_type": "code",
   "execution_count": 480,
   "id": "d4f816fb",
   "metadata": {},
   "outputs": [
    {
     "data": {
      "image/png": "[encoded data removed]",
      "text/plain": [
       "<Figure size 1200x600 with 1 Axes>"
      ]
     },
     "metadata": {},
     "output_type": "display_data"
    }
   ],
   "source": [
    "plt.figure(figsize=(12, 6))\n",
    "sns.boxplot(x=df['Blood_Oxygen_Level_(%)'], color='lightgreen')\n",
    "plt.title('Boxplot for Blood Oxygen Level')\n",
    "plt.xlabel('Blood Oxygen Level (%)')\n",
    "plt.show()"
   ]
  },
  {
   "cell_type": "code",
   "execution_count": 481,
   "id": "6c2aee8b",
   "metadata": {},
   "outputs": [
    {
     "data": {
      "image/png": "[encoded data removed]",
      "text/plain": [
       "<Figure size 1200x600 with 1 Axes>"
      ]
     },
     "metadata": {},
     "output_type": "display_data"
    }
   ],
   "source": [
    "plt.figure(figsize=(12, 6))\n",
    "stats.probplot(df['Step_Count'], dist=\"norm\", plot=plt)\n",
    "plt.title('Q-Q Plot for Step Count')\n",
    "plt.show()"
   ]
  },
  {
   "cell_type": "code",
   "execution_count": 482,
   "id": "6de60f1c",
   "metadata": {},
   "outputs": [
    {
     "data": {
      "image/png": "[encoded data removed]",
      "text/plain": [
       "<Figure size 1200x600 with 1 Axes>"
      ]
     },
     "metadata": {},
     "output_type": "display_data"
    }
   ],
   "source": [
    "plt.figure(figsize=(12, 6))\n",
    "sns.histplot(df['Sleep_Duration_(hours)'], kde=True, bins=20, color='skyblue')\n",
    "plt.title('Sleep Duration Distribution - Histogram')\n",
    "plt.xlabel('Sleep Duration (hours)')\n",
    "plt.ylabel('Frequency')\n",
    "plt.show()"
   ]
  },
  {
   "cell_type": "code",
   "execution_count": 483,
   "id": "a7db8a0b",
   "metadata": {},
   "outputs": [
    {
     "name": "stdout",
     "output_type": "stream",
     "text": [
      "Anderson-Darling Testi:\n",
      "Test istatistiği: 0.5849\n",
      "15.0%: 0.5760 — UYMAZ\n",
      "10.0%: 0.6560 — UYGUN\n",
      "5.0%: 0.7870 — UYGUN\n",
      "2.5%: 0.9180 — UYGUN\n",
      "1.0%: 1.0920 — UYGUN\n"
     ]
    }
   ],
   "source": [
    "result = anderson(df['Sleep_Duration_(hours)'], dist='norm')\n",
    "print(\"Anderson-Darling Testi:\")\n",
    "print(f\"Test istatistiği: {result.statistic:.4f}\")\n",
    "for i in range(len(result.critical_values)):\n",
    "    sig_level = result.significance_level[i]\n",
    "    crit_val = result.critical_values[i]\n",
    "    if result.statistic < crit_val:\n",
    "        print(f\"{sig_level}%: {crit_val:.4f} — UYGUN\")\n",
    "    else:\n",
    "        print(f\"{sig_level}%: {crit_val:.4f} — UYMAZ\")"
   ]
  },
  {
   "cell_type": "code",
   "execution_count": 484,
   "id": "66896f23",
   "metadata": {},
   "outputs": [
    {
     "name": "stdout",
     "output_type": "stream",
     "text": [
      "Kolmogorov-Smirnov Testi:\n",
      "İstatistik: 0.0067, p-değeri: 0.7619\n",
      "→ Normal dağılıma uygun (p > 0.05)\n"
     ]
    }
   ],
   "source": [
    "if n > 50:\n",
    "    stat, p = kstest(df['Sleep_Duration_(hours)'], 'norm',\n",
    "                     args=(df['Sleep_Duration_(hours)'].mean(), df['Sleep_Duration_(hours)'].std()))\n",
    "    print(\"Kolmogorov-Smirnov Testi:\")\n",
    "    print(f\"İstatistik: {stat:.4f}, p-değeri: {p:.4f}\")\n",
    "    if p > 0.05:\n",
    "        print(\"→ Normal dağılıma uygun (p > 0.05)\")\n",
    "    else:\n",
    "        print(\"→ Normal dağılıma uymuyor (p ≤ 0.05)\")"
   ]
  },
  {
   "cell_type": "code",
   "execution_count": 485,
   "id": "967aa9f1",
   "metadata": {},
   "outputs": [
    {
     "data": {
      "text/html": [
       "<div>\n",
       "<style scoped>\n",
       "    .dataframe tbody tr th:only-of-type {\n",
       "        vertical-align: middle;\n",
       "    }\n",
       "\n",
       "    .dataframe tbody tr th {\n",
       "        vertical-align: top;\n",
       "    }\n",
       "\n",
       "    .dataframe thead th {\n",
       "        text-align: right;\n",
       "    }\n",
       "</style>\n",
       "<table border=\"1\" class=\"dataframe\">\n",
       "  <thead>\n",
       "    <tr style=\"text-align: right;\">\n",
       "      <th></th>\n",
       "      <th>Heart_Rate_(BPM)</th>\n",
       "      <th>Blood_Oxygen_Level_(%)</th>\n",
       "      <th>Step_Count</th>\n",
       "      <th>Sleep_Duration_(hours)</th>\n",
       "      <th>Activity_Level</th>\n",
       "      <th>Stress_Level</th>\n",
       "      <th>Step_Count_log</th>\n",
       "      <th>Step_Count_sqrt</th>\n",
       "    </tr>\n",
       "  </thead>\n",
       "  <tbody>\n",
       "    <tr>\n",
       "      <th>1072</th>\n",
       "      <td>76.720217</td>\n",
       "      <td>100.000000</td>\n",
       "      <td>4892</td>\n",
       "      <td>6.056259</td>\n",
       "      <td>Active</td>\n",
       "      <td>1</td>\n",
       "      <td>8.495561</td>\n",
       "      <td>69.942834</td>\n",
       "    </tr>\n",
       "    <tr>\n",
       "      <th>1077</th>\n",
       "      <td>83.109168</td>\n",
       "      <td>95.653506</td>\n",
       "      <td>14750</td>\n",
       "      <td>7.130906</td>\n",
       "      <td>Sedentary</td>\n",
       "      <td>1</td>\n",
       "      <td>9.599066</td>\n",
       "      <td>121.449578</td>\n",
       "    </tr>\n",
       "    <tr>\n",
       "      <th>1080</th>\n",
       "      <td>83.407593</td>\n",
       "      <td>98.589635</td>\n",
       "      <td>4055</td>\n",
       "      <td>6.210309</td>\n",
       "      <td>Active</td>\n",
       "      <td>1</td>\n",
       "      <td>8.307953</td>\n",
       "      <td>63.678882</td>\n",
       "    </tr>\n",
       "    <tr>\n",
       "      <th>1093</th>\n",
       "      <td>56.048272</td>\n",
       "      <td>94.393528</td>\n",
       "      <td>4697</td>\n",
       "      <td>4.538800</td>\n",
       "      <td>Active</td>\n",
       "      <td>1</td>\n",
       "      <td>8.454892</td>\n",
       "      <td>68.534663</td>\n",
       "    </tr>\n",
       "    <tr>\n",
       "      <th>1095</th>\n",
       "      <td>67.846998</td>\n",
       "      <td>96.464459</td>\n",
       "      <td>16607</td>\n",
       "      <td>6.700837</td>\n",
       "      <td>Sedentary</td>\n",
       "      <td>1</td>\n",
       "      <td>9.717640</td>\n",
       "      <td>128.868150</td>\n",
       "    </tr>\n",
       "  </tbody>\n",
       "</table>\n",
       "</div>"
      ],
      "text/plain": [
       "      Heart_Rate_(BPM)  Blood_Oxygen_Level_(%)  Step_Count  \\\n",
       "1072         76.720217              100.000000        4892   \n",
       "1077         83.109168               95.653506       14750   \n",
       "1080         83.407593               98.589635        4055   \n",
       "1093         56.048272               94.393528        4697   \n",
       "1095         67.846998               96.464459       16607   \n",
       "\n",
       "      Sleep_Duration_(hours) Activity_Level  Stress_Level  Step_Count_log  \\\n",
       "1072                6.056259         Active             1        8.495561   \n",
       "1077                7.130906      Sedentary             1        9.599066   \n",
       "1080                6.210309         Active             1        8.307953   \n",
       "1093                4.538800         Active             1        8.454892   \n",
       "1095                6.700837      Sedentary             1        9.717640   \n",
       "\n",
       "      Step_Count_sqrt  \n",
       "1072        69.942834  \n",
       "1077       121.449578  \n",
       "1080        63.678882  \n",
       "1093        68.534663  \n",
       "1095       128.868150  "
      ]
     },
     "execution_count": 485,
     "metadata": {},
     "output_type": "execute_result"
    }
   ],
   "source": [
    "df.head()"
   ]
  },
  {
   "cell_type": "code",
   "execution_count": 486,
   "id": "f0d3ff3c",
   "metadata": {},
   "outputs": [
    {
     "name": "stdout",
     "output_type": "stream",
     "text": [
      "6.515379619735219\n",
      "Ortalama: 6.5057, Standart Sapma: 1.49\n",
      "Z-istatistiği: -0.6497, p-değeri: 0.2580\n"
     ]
    }
   ],
   "source": [
    "#H₀ (Null Hipotezi): Ortalama uyku süresi, \"Active\" grubunun ortalamasına eşittir veya daha büyüktür.(μ ≤ μ_active)\n",
    "#H₁ (Alternatif Hipotez): Ortalama uyku süresi, \"Active\" grubunun ortalamasından küçüktür.(μ > μ_active)\n",
    "\n",
    "\n",
    "active_group = df[df['Activity_Level'] == 'Active']\n",
    "sleep_duration = df['Sleep_Duration_(hours)']\n",
    "\n",
    "mu_active = active_group['Sleep_Duration_(hours)'].mean()\n",
    "print(active_group['Sleep_Duration_(hours)'].mean())\n",
    "\n",
    "\n",
    "z_stat, p_value = ztest(sleep_duration, value=mu_active, alternative='smaller')\n",
    "\n",
    "\n",
    "mean_val = np.mean(sleep_duration)\n",
    "std_val = np.std(sleep_duration)\n",
    "\n",
    "\n",
    "print('Ortalama: %.4f, Standart Sapma: %.2f' % (mean_val, std_val))\n",
    "print('Z-istatistiği: %.4f, p-değeri: %.4f' % (z_stat, p_value))"
   ]
  },
  {
   "cell_type": "code",
   "execution_count": 488,
   "id": "379118a2",
   "metadata": {},
   "outputs": [
    {
     "data": {
      "text/plain": [
       "<Axes: xlabel='Activity_Level', ylabel='count'>"
      ]
     },
     "execution_count": 488,
     "metadata": {},
     "output_type": "execute_result"
    },
    {
     "data": {
      "image/png": "[encoded data removed]",
      "text/plain": [
       "<Figure size 640x480 with 1 Axes>"
      ]
     },
     "metadata": {},
     "output_type": "display_data"
    }
   ],
   "source": [
    "sns.countplot(x='Activity_Level',\n",
    "              data=df,\n",
    "              hue='Activity_Level',\n",
    "              palette='Set2',\n",
    "              legend=False)"
   ]
  },
  {
   "cell_type": "code",
   "execution_count": null,
   "id": "8441f2b8",
   "metadata": {},
   "outputs": [],
   "source": []
  },
  {
   "cell_type": "code",
   "execution_count": null,
   "id": "31354f29",
   "metadata": {},
   "outputs": [],
   "source": []
  },
  {
   "cell_type": "code",
   "execution_count": null,
   "id": "3a3c863e",
   "metadata": {},
   "outputs": [],
   "source": []
  },
  {
   "cell_type": "code",
   "execution_count": null,
   "id": "07887af5-46b7-4a43-b57e-938e8f0634b7",
   "metadata": {},
   "outputs": [],
   "source": []
  },
  {
   "cell_type": "code",
   "execution_count": null,
   "id": "19ce1d7c-1fd0-49ef-aa9d-3387664ebf20",
   "metadata": {},
   "outputs": [],
   "source": []
  },
  {
   "cell_type": "code",
   "execution_count": null,
   "id": "456c3d9b-1c76-499e-ab51-55365935a972",
   "metadata": {},
   "outputs": [],
   "source": []
  },
  {
   "cell_type": "code",
   "execution_count": null,
   "id": "deff9f5c-1bc0-469b-995c-4524b4ec2029",
   "metadata": {},
   "outputs": [],
   "source": []
  },
  {
   "cell_type": "code",
   "execution_count": null,
   "id": "a56fa17a-af5a-4a7b-92c6-cde0740b4c27",
   "metadata": {},
   "outputs": [],
   "source": []
  },
  {
   "cell_type": "code",
   "execution_count": null,
   "id": "8423c82b-24de-4b81-a64a-74a9d07a55c1",
   "metadata": {},
   "outputs": [],
   "source": []
  },
  {
   "cell_type": "code",
   "execution_count": null,
   "id": "fbf08573-015e-4b66-b5ba-9cb2e7b72ec3",
   "metadata": {},
   "outputs": [],
   "source": []
  },
  {
   "cell_type": "code",
   "execution_count": null,
   "id": "e0ffc704-e92c-41bf-925d-5f6d651f2e4f",
   "metadata": {},
   "outputs": [],
   "source": []
  },
  {
   "cell_type": "code",
   "execution_count": null,
   "id": "72a8246d-51f5-47ab-84f0-7e382f52105c",
   "metadata": {},
   "outputs": [],
   "source": []
  },
  {
   "cell_type": "code",
   "execution_count": null,
   "id": "1791bdda-4d59-47a9-8b69-87bb341bb2a3",
   "metadata": {},
   "outputs": [],
   "source": []
  },
  {
   "cell_type": "code",
   "execution_count": null,
   "id": "f2404862-fc87-4e25-9be2-b9c746ebe615",
   "metadata": {},
   "outputs": [],
   "source": []
  }
 ],
 "metadata": {
  "kernelspec": {
   "display_name": "Python 3.11 (new)",
   "language": "python",
   "name": "python311_new"
  },
  "language_info": {
   "codemirror_mode": {
    "name": "ipython",
    "version": 3
   },
   "file_extension": ".py",
   "mimetype": "text/x-python",
   "name": "python",
   "nbconvert_exporter": "python",
   "pygments_lexer": "ipython3",
   "version": "3.11.9"
  }
 },
 "nbformat": 4,
 "nbformat_minor": 5
}
